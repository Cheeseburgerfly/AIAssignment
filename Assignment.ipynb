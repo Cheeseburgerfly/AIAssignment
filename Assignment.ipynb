{
 "cells": [
  {
   "cell_type": "markdown",
   "metadata": {},
   "source": [
    "# Introduction\n",
    "\n",
    "https://www.kaggle.com/gunner38/horseracing?select=tips.csv\n",
    "\n",
    "Horse Racing - Tipster Bets\n",
    "1. [Horse Racing Tipster Bets dataset](#0.Horse-Racing-Tipster-Bets-dataset)\n",
    "2. [Data Processing]\n",
    "\n",
    "## 1. Horse Racing Tipster Bets dataset:\n",
    "\n",
    "It contains 39000 instances and 10 columns."
   ]
  },
  {
   "cell_type": "code",
   "execution_count": 1,
   "metadata": {},
   "outputs": [],
   "source": [
    "import pandas as pd\n",
    "import numpy as np\n",
    "\n",
    "from matplotlib import pyplot as plt"
   ]
  },
  {
   "cell_type": "markdown",
   "metadata": {},
   "source": [
    "## 2. Data Processing:\n",
    "\n",
    "**Load and Visualise data**"
   ]
  },
  {
   "cell_type": "code",
   "execution_count": 102,
   "metadata": {},
   "outputs": [
    {
     "data": {
      "text/html": [
       "<div>\n",
       "<style scoped>\n",
       "    .dataframe tbody tr th:only-of-type {\n",
       "        vertical-align: middle;\n",
       "    }\n",
       "\n",
       "    .dataframe tbody tr th {\n",
       "        vertical-align: top;\n",
       "    }\n",
       "\n",
       "    .dataframe thead th {\n",
       "        text-align: right;\n",
       "    }\n",
       "</style>\n",
       "<table border=\"1\" class=\"dataframe\">\n",
       "  <thead>\n",
       "    <tr style=\"text-align: right;\">\n",
       "      <th></th>\n",
       "      <th>UID</th>\n",
       "      <th>ID</th>\n",
       "      <th>Tipster</th>\n",
       "      <th>Date</th>\n",
       "      <th>Track</th>\n",
       "      <th>Horse</th>\n",
       "      <th>Bet Type</th>\n",
       "      <th>Odds</th>\n",
       "      <th>Result</th>\n",
       "      <th>TipsterActive</th>\n",
       "    </tr>\n",
       "  </thead>\n",
       "  <tbody>\n",
       "    <tr>\n",
       "      <th>0</th>\n",
       "      <td>1</td>\n",
       "      <td>1</td>\n",
       "      <td>Tipster A</td>\n",
       "      <td>24/7/2015</td>\n",
       "      <td>Ascot</td>\n",
       "      <td>Fredricka</td>\n",
       "      <td>Win</td>\n",
       "      <td>8.00</td>\n",
       "      <td>Lose</td>\n",
       "      <td>True</td>\n",
       "    </tr>\n",
       "    <tr>\n",
       "      <th>1</th>\n",
       "      <td>2</td>\n",
       "      <td>2</td>\n",
       "      <td>Tipster A</td>\n",
       "      <td>24/7/2015</td>\n",
       "      <td>Thirsk</td>\n",
       "      <td>Spend A Penny</td>\n",
       "      <td>Win</td>\n",
       "      <td>4.50</td>\n",
       "      <td>Lose</td>\n",
       "      <td>True</td>\n",
       "    </tr>\n",
       "    <tr>\n",
       "      <th>2</th>\n",
       "      <td>3</td>\n",
       "      <td>3</td>\n",
       "      <td>Tipster A</td>\n",
       "      <td>24/7/2015</td>\n",
       "      <td>York</td>\n",
       "      <td>Straightothepoint</td>\n",
       "      <td>Win</td>\n",
       "      <td>7.00</td>\n",
       "      <td>Lose</td>\n",
       "      <td>True</td>\n",
       "    </tr>\n",
       "    <tr>\n",
       "      <th>3</th>\n",
       "      <td>4</td>\n",
       "      <td>4</td>\n",
       "      <td>Tipster A</td>\n",
       "      <td>24/7/2015</td>\n",
       "      <td>Newmarket</td>\n",
       "      <td>Miss Inga Sock</td>\n",
       "      <td>Win</td>\n",
       "      <td>5.00</td>\n",
       "      <td>Lose</td>\n",
       "      <td>True</td>\n",
       "    </tr>\n",
       "    <tr>\n",
       "      <th>4</th>\n",
       "      <td>5</td>\n",
       "      <td>5</td>\n",
       "      <td>Tipster A</td>\n",
       "      <td>25/7/2015</td>\n",
       "      <td>Ascot</td>\n",
       "      <td>Peril</td>\n",
       "      <td>Win</td>\n",
       "      <td>4.33</td>\n",
       "      <td>Win</td>\n",
       "      <td>True</td>\n",
       "    </tr>\n",
       "  </tbody>\n",
       "</table>\n",
       "</div>"
      ],
      "text/plain": [
       "   UID  ID    Tipster       Date      Track              Horse Bet Type  Odds  \\\n",
       "0    1   1  Tipster A  24/7/2015      Ascot          Fredricka      Win  8.00   \n",
       "1    2   2  Tipster A  24/7/2015     Thirsk      Spend A Penny      Win  4.50   \n",
       "2    3   3  Tipster A  24/7/2015       York  Straightothepoint      Win  7.00   \n",
       "3    4   4  Tipster A  24/7/2015  Newmarket     Miss Inga Sock      Win  5.00   \n",
       "4    5   5  Tipster A  25/7/2015      Ascot              Peril      Win  4.33   \n",
       "\n",
       "  Result  TipsterActive  \n",
       "0   Lose           True  \n",
       "1   Lose           True  \n",
       "2   Lose           True  \n",
       "3   Lose           True  \n",
       "4    Win           True  "
      ]
     },
     "execution_count": 102,
     "metadata": {},
     "output_type": "execute_result"
    }
   ],
   "source": [
    "df = pd.read_csv('tips.csv', encoding='latin1')\n",
    "df.head()"
   ]
  },
  {
   "cell_type": "code",
   "execution_count": 103,
   "metadata": {},
   "outputs": [
    {
     "data": {
      "text/plain": [
       "UID                int64\n",
       "ID                 int64\n",
       "Tipster           object\n",
       "Date              object\n",
       "Track             object\n",
       "Horse             object\n",
       "Bet Type          object\n",
       "Odds             float64\n",
       "Result            object\n",
       "TipsterActive       bool\n",
       "dtype: object"
      ]
     },
     "execution_count": 103,
     "metadata": {},
     "output_type": "execute_result"
    }
   ],
   "source": [
    "df.dtypes"
   ]
  },
  {
   "cell_type": "code",
   "execution_count": 104,
   "metadata": {},
   "outputs": [
    {
     "data": {
      "text/plain": [
       "UID              False\n",
       "ID               False\n",
       "Tipster          False\n",
       "Date             False\n",
       "Track            False\n",
       "Horse            False\n",
       "Bet Type         False\n",
       "Odds             False\n",
       "Result           False\n",
       "TipsterActive    False\n",
       "dtype: bool"
      ]
     },
     "execution_count": 104,
     "metadata": {},
     "output_type": "execute_result"
    }
   ],
   "source": [
    "df.isnull().any()"
   ]
  },
  {
   "cell_type": "code",
   "execution_count": 105,
   "metadata": {},
   "outputs": [
    {
     "name": "stdout",
     "output_type": "stream",
     "text": [
      "win:  20.087324827441957 %\n",
      "lose:  79.91267517255804 %\n",
      "win:  79.52572683539009 %\n",
      "lose:  20.471658648818238 %\n"
     ]
    }
   ],
   "source": [
    "All = df.shape[0]\n",
    "result_win = df[df['Result'] == 'Win']\n",
    "result_lose = df[df['Result'] == 'Lose']\n",
    "bet_win = df[df['Bet Type'] == 'Win']\n",
    "bet_both = df[df['Bet Type'] == 'Each Way']\n",
    "\n",
    "rs_x = len(result_win)/All\n",
    "rs_y = len(result_lose)/All\n",
    "bt_x = len(bet_win)/All\n",
    "bt_y = len(bet_both)/All\n",
    "\n",
    "print('win: ', rs_x*100,'%')\n",
    "print('lose: ', rs_y*100,'%')\n",
    "\n",
    "print('win: ', bt_x*100,'%')\n",
    "print('lose: ', bt_y*100,'%')"
   ]
  },
  {
   "cell_type": "markdown",
   "metadata": {},
   "source": [
    "**There are total 31 Tipsters**\n",
    "\n",
    "Tipster X is the most active Tipster"
   ]
  },
  {
   "cell_type": "code",
   "execution_count": 106,
   "metadata": {},
   "outputs": [
    {
     "name": "stdout",
     "output_type": "stream",
     "text": [
      "Tipster X     4383\n",
      "Tipster E     3700\n",
      "Tipster B1    2497\n",
      "Tipster A1    2446\n",
      "Tipster D1    2119\n",
      "Tipster J     1937\n",
      "Tipster R     1901\n",
      "Tipster C     1738\n",
      "Tipster Q     1552\n",
      "Tipster Y     1469\n",
      "Tipster L     1425\n",
      "Tipster T     1332\n",
      "Tipster A     1331\n",
      "Tipster O     1094\n",
      "Tipster W      994\n",
      "Tipster M      957\n",
      "Tipster Z      883\n",
      "Tipster H      833\n",
      "Tipster D      741\n",
      "Tipster E1     609\n",
      "Tipster P      581\n",
      "Tipster B      503\n",
      "Tipster C1     501\n",
      "Tipster I      453\n",
      "Tipster N      415\n",
      "Tipster V      406\n",
      "Tipster U      383\n",
      "Tipster S      383\n",
      "Tipster G      290\n",
      "Tipster K      246\n",
      "Tipster F      146\n",
      "Name: Tipster, dtype: int64\n"
     ]
    },
    {
     "data": {
      "text/plain": [
       "31"
      ]
     },
     "execution_count": 106,
     "metadata": {},
     "output_type": "execute_result"
    }
   ],
   "source": [
    "A = df.Tipster.value_counts()\n",
    "print(A)\n",
    "len(A)"
   ]
  },
  {
   "cell_type": "markdown",
   "metadata": {},
   "source": [
    "From the code below you can see that there are only 19 Active Tipsters."
   ]
  },
  {
   "cell_type": "code",
   "execution_count": 109,
   "metadata": {},
   "outputs": [
    {
     "name": "stdout",
     "output_type": "stream",
     "text": [
      "Tipster\n",
      "Tipster A     1331\n",
      "Tipster A1    2446\n",
      "Tipster B      503\n",
      "Tipster B1       0\n",
      "Tipster C        0\n",
      "Tipster C1       0\n",
      "Tipster D      741\n",
      "Tipster D1    2119\n",
      "Tipster E     3700\n",
      "Tipster E1       0\n",
      "Tipster F        0\n",
      "Tipster G      290\n",
      "Tipster H        0\n",
      "Tipster I      453\n",
      "Tipster J     1937\n",
      "Tipster K      246\n",
      "Tipster L        0\n",
      "Tipster M      957\n",
      "Tipster N        0\n",
      "Tipster O     1094\n",
      "Tipster P      581\n",
      "Tipster Q        0\n",
      "Tipster R     1901\n",
      "Tipster S      383\n",
      "Tipster T     1332\n",
      "Tipster U      383\n",
      "Tipster V      406\n",
      "Tipster W        0\n",
      "Tipster X     4383\n",
      "Tipster Y        0\n",
      "Tipster Z        0\n",
      "Name: TipsterActive, dtype: int64\n",
      "True     19\n",
      "False    12\n",
      "Name: TipsterActive, dtype: int64\n"
     ]
    },
    {
     "data": {
      "text/plain": [
       "<matplotlib.axes._subplots.AxesSubplot at 0x1734d51eac0>"
      ]
     },
     "execution_count": 109,
     "metadata": {},
     "output_type": "execute_result"
    },
    {
     "data": {
      "image/png": "[encoded data removed]",
      "text/plain": [
       "<Figure size 360x720 with 1 Axes>"
      ]
     },
     "metadata": {},
     "output_type": "display_data"
    }
   ],
   "source": [
    "Active = df.groupby('Tipster')['TipsterActive'].apply(lambda x: x[x == True].count())\n",
    "print(Active)\n",
    "print((Active > 0).value_counts())\n",
    "chart = pd.DataFrame(Active)\n",
    "chart.plot.pie(y='TipsterActive', figsize = (5,10))"
   ]
  },
  {
   "cell_type": "markdown",
   "metadata": {},
   "source": [
    "Take a look on the percentage of success for Tipster X betting."
   ]
  },
  {
   "cell_type": "code",
   "execution_count": 91,
   "metadata": {},
   "outputs": [],
   "source": [
    "#X = np.logical_and(df[df['Tipster'] == 'Tipster X'], df[df['Bet Type'] == 'Win'])\n",
    "\n",
    "#X"
   ]
  },
  {
   "cell_type": "code",
   "execution_count": null,
   "metadata": {},
   "outputs": [],
   "source": []
  },
  {
   "cell_type": "code",
   "execution_count": null,
   "metadata": {},
   "outputs": [],
   "source": []
  }
 ],
 "metadata": {
  "kernelspec": {
   "display_name": "Python 3",
   "language": "python",
   "name": "python3"
  },
  "language_info": {
   "codemirror_mode": {
    "name": "ipython",
    "version": 3
   },
   "file_extension": ".py",
   "mimetype": "text/x-python",
   "name": "python",
   "nbconvert_exporter": "python",
   "pygments_lexer": "ipython3",
   "version": "3.8.3"
  }
 },
 "nbformat": 4,
 "nbformat_minor": 4
}
