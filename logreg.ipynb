{
 "metadata": {
  "language_info": {
   "codemirror_mode": {
    "name": "ipython",
    "version": 3
   },
   "file_extension": ".py",
   "mimetype": "text/x-python",
   "name": "python",
   "nbconvert_exporter": "python",
   "pygments_lexer": "ipython3",
   "version": "3.8.5-final"
  },
  "orig_nbformat": 2,
  "kernelspec": {
   "name": "python_defaultSpec_1599157792084",
   "display_name": "Python 3.8.5 32-bit"
  }
 },
 "nbformat": 4,
 "nbformat_minor": 2,
 "cells": [
  {
   "cell_type": "code",
   "execution_count": 1,
   "metadata": {},
   "outputs": [],
   "source": [
    "import pandas as pd\n",
    "import numpy as np\n",
    "import researchpy as rp\n",
    "import matplotlib.pyplot as plt"
   ]
  },
  {
   "cell_type": "code",
   "execution_count": 2,
   "metadata": {},
   "outputs": [],
   "source": [
    "from sklearn.model_selection import train_test_split\n",
    "from sklearn.model_selection import cross_val_score\n",
    "from sklearn.model_selection import KFold\n"
   ]
  },
  {
   "cell_type": "code",
   "execution_count": 3,
   "metadata": {},
   "outputs": [],
   "source": [
    "from sklearn.metrics import accuracy_score\n",
    "from sklearn.metrics import classification_report\n",
    "from sklearn.metrics import confusion_matrix\n",
    "from sklearn.metrics import precision_score, recall_score, f1_score, accuracy_score"
   ]
  },
  {
   "cell_type": "code",
   "execution_count": 4,
   "metadata": {},
   "outputs": [],
   "source": [
    "from sklearn.linear_model import LogisticRegression"
   ]
  },
  {
   "cell_type": "code",
   "execution_count": 5,
   "metadata": {},
   "outputs": [],
   "source": [
    "dataset = pd.read_csv('src/bank-additional-full.csv', delimiter=';', na_values=['unknown', 'NaN']).dropna()"
   ]
  },
  {
   "cell_type": "code",
   "execution_count": 6,
   "metadata": {},
   "outputs": [],
   "source": [
    "# changed to g1, g2, g3 instead of teen, adult, elder\n",
    "# to increase the number of younster for more accurate\n",
    "# prediction"
   ]
  },
  {
   "cell_type": "code",
   "execution_count": 7,
   "metadata": {},
   "outputs": [],
   "source": [
    "age_group = pd.cut(dataset['age'], bins=[0, 30, 55, 100], labels=['g1', 'g2', 'g3'])\n",
    "dataset.insert(5, 'age_group', age_group)"
   ]
  },
  {
   "cell_type": "code",
   "execution_count": null,
   "metadata": {},
   "outputs": [],
   "source": []
  },
  {
   "cell_type": "code",
   "execution_count": 8,
   "metadata": {},
   "outputs": [],
   "source": [
    "dataset['job']= dataset['job'].map({\n",
    "    'admin.': 1, \n",
    "    'blue-collar': 2, \n",
    "    'technician': 3, \n",
    "    'services': 4, \n",
    "    'management': 5, \n",
    "    'retired': 6, \n",
    "    'self-employed': 7, \n",
    "    'entrepreneur': 8, \n",
    "    'unemployed': 9,\n",
    "    'housemaid': 10,\n",
    "    'student': 11\n",
    "    }).astype({'job': 'category'})\n",
    "\n",
    "dataset['education']= dataset['education'].map({\n",
    "    'university.degree': 1, \n",
    "    'high.school': 2, \n",
    "    'professional.course': 3, \n",
    "    'basic.9y': 4, \n",
    "    'basic.4y': 5, \n",
    "    'basic.6y': 6, \n",
    "    'illiterate': 7\n",
    "    }).astype({'education': 'category'})\n",
    "\n",
    "dataset['marital'] = dataset['marital'].map({\n",
    "    'single': 1, \n",
    "    'married': 2, \n",
    "    'divorced': 3\n",
    "    }).astype({'marital': 'category'})\n",
    "\n",
    "dataset['age_group'] = dataset['age_group'].map({\n",
    "    'g1': 1, 'g2': 2, 'g3': 3\n",
    "    }).astype({'age_group': 'category'})\n",
    "\n",
    "dataset['contact'] = dataset['contact'].map({\n",
    "    'cellular': 1, 'telephone': 2\n",
    "    }).astype({'contact': 'category'})\n",
    "\n",
    "dataset['month'] = dataset['month'].map({\n",
    "    'jan': 1, \n",
    "    'feb': 2, \n",
    "    'mar': 3, \n",
    "    'apr': 4, \n",
    "    'may': 5, \n",
    "    'jun': 6, \n",
    "    'jul': 7, \n",
    "    'aug': 8, \n",
    "    'sep': 9, \n",
    "    'oct': 10, \n",
    "    'nov': 11, \n",
    "    'dec': 12}).astype({'month': 'category'})\n",
    "\n",
    "dataset['poutcome'] = dataset['poutcome'].map({\n",
    "    'failure': 1, 'nonexistent': 2, 'success': 3\n",
    "    }).astype({'poutcome': 'category'})"
   ]
  },
  {
   "cell_type": "code",
   "execution_count": 9,
   "metadata": {},
   "outputs": [],
   "source": [
    "dataset['housing'] = dataset['housing'].map({'yes': 1, 'no': 0})\n",
    "dataset['default'] = dataset['default'].map({'yes': 1, 'no': 0})\n",
    "dataset['loan'] = dataset['loan'].map({'yes': 1, 'no': 0})"
   ]
  },
  {
   "cell_type": "code",
   "execution_count": 10,
   "metadata": {},
   "outputs": [],
   "source": [
    "x = dataset.drop(['age', 'day_of_week', 'duration', 'emp.var.rate', 'cons.price.idx', 'cons.conf.idx', 'nr.employed', 'y'], axis=1)\n",
    "y = dataset['y']\n",
    "y = y.map({'no': 0, 'yes': 1}).astype({'y': 'category'})"
   ]
  },
  {
   "cell_type": "code",
   "execution_count": 11,
   "metadata": {},
   "outputs": [],
   "source": [
    "x_train, x_test, y_train, y_test = train_test_split(x, y, test_size=0.2, random_state=35)"
   ]
  },
  {
   "cell_type": "code",
   "execution_count": 12,
   "metadata": {
    "tags": []
   },
   "outputs": [
    {
     "output_type": "stream",
     "name": "stdout",
     "text": "precision    recall  f1-score   support\n\n           0       0.99      0.90      0.94      5880\n           1       0.21      0.72      0.32       218\n\n    accuracy                           0.89      6098\n   macro avg       0.60      0.81      0.63      6098\nweighted avg       0.96      0.89      0.92      6098\n\n"
    }
   ],
   "source": [
    "log_reg = LogisticRegression()\n",
    "log_reg.fit(x_train, y_train)\n",
    "y_predict = log_reg.predict(x_test)\n",
    "print(classification_report(y_predict,y_test))"
   ]
  },
  {
   "cell_type": "code",
   "execution_count": 13,
   "metadata": {},
   "outputs": [
    {
     "output_type": "execute_result",
     "data": {
      "text/plain": "0.6500838252147652"
     },
     "metadata": {},
     "execution_count": 13
    }
   ],
   "source": [
    "result = cross_val_score(log_reg, x_train, y_train, cv=5, scoring='precision')\n",
    "result.mean()"
   ]
  },
  {
   "cell_type": "code",
   "execution_count": 16,
   "metadata": {},
   "outputs": [
    {
     "output_type": "execute_result",
     "data": {
      "text/plain": "0.8848298482984831"
     },
     "metadata": {},
     "execution_count": 16
    }
   ],
   "source": [
    "result = cross_val_score(log_reg, x_train, y_train, cv=5, scoring='accuracy')\n",
    "result.mean()"
   ]
  },
  {
   "cell_type": "code",
   "execution_count": 14,
   "metadata": {
    "tags": []
   },
   "outputs": [
    {
     "output_type": "stream",
     "name": "stdout",
     "text": "True negative: 5289\nTrue positive: 156\nFalse negative: 591\nFalse positive: 62\n"
    }
   ],
   "source": [
    "tn, fp, fn, tp = confusion_matrix(y_test, y_predict).ravel()\n",
    "print(f'True negative: {tn}')\n",
    "print(f'True positive: {tp}')\n",
    "print(f'False negative: {fn}')\n",
    "print(f'False positive: {fp}')"
   ]
  },
  {
   "cell_type": "code",
   "execution_count": 15,
   "metadata": {
    "tags": []
   },
   "outputs": [
    {
     "output_type": "stream",
     "name": "stdout",
     "text": "Precision: 0.7155963302752294\nRecall: 0.20883534136546184\nF1 score: 0.32331606217616576\nAccuracy: 0.892915710068875\n"
    }
   ],
   "source": [
    "precision = precision_score(y_test, y_predict)\n",
    "recall = recall_score(y_test, y_predict)\n",
    "f1 = f1_score(y_test, y_predict)\n",
    "accuracy = accuracy_score(y_test, y_predict)\n",
    "\n",
    "print(f'Precision: {precision}')\n",
    "print(f'Recall: {recall}')\n",
    "print(f'F1 score: {f1}')\n",
    "print(f'Accuracy: {accuracy}')"
   ]
  }
 ]
}